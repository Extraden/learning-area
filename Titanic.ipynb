{
 "cells": [
  {
   "cell_type": "code",
   "execution_count": 1,
   "id": "b9a96080",
   "metadata": {
    "_cell_guid": "b1076dfc-b9ad-4769-8c92-a6c4dae69d19",
    "_uuid": "8f2839f25d086af736a60e9eeb907d3b93b6e0e5",
    "execution": {
     "iopub.execute_input": "2022-11-20T20:22:12.443623Z",
     "iopub.status.busy": "2022-11-20T20:22:12.443021Z",
     "iopub.status.idle": "2022-11-20T20:22:13.844760Z",
     "shell.execute_reply": "2022-11-20T20:22:13.842341Z"
    },
    "papermill": {
     "duration": 1.411223,
     "end_time": "2022-11-20T20:22:13.848044",
     "exception": false,
     "start_time": "2022-11-20T20:22:12.436821",
     "status": "completed"
    },
    "tags": []
   },
   "outputs": [
    {
     "name": "stdout",
     "output_type": "stream",
     "text": [
      "/kaggle/input/titanic/train.csv\n",
      "/kaggle/input/titanic/test.csv\n",
      "/kaggle/input/titanic/gender_submission.csv\n"
     ]
    }
   ],
   "source": [
    "# This Python 3 environment comes with many helpful analytics libraries installed\n",
    "# It is defined by the kaggle/python Docker image: https://github.com/kaggle/docker-python\n",
    "# For example, here's several helpful packages to load\n",
    "\n",
    "import numpy as np # linear algebra\n",
    "import pandas as pd # data processing, CSV file I/O (e.g. pd.read_csv)\n",
    "from sklearn.model_selection import train_test_split\n",
    "from sklearn.metrics import accuracy_score\n",
    "from sklearn.tree import DecisionTreeClassifier\n",
    "from sklearn.ensemble import RandomForestClassifier\n",
    "from sklearn.linear_model import LogisticRegression\n",
    "\n",
    "\n",
    "# Input data files are available in the read-only \"../input/\" directory\n",
    "# For example, running this (by clicking run or pressing Shift+Enter) will list all files under the input directory\n",
    "\n",
    "import os\n",
    "for dirname, _, filenames in os.walk('/kaggle/input'):\n",
    "    for filename in filenames:\n",
    "        print(os.path.join(dirname, filename))\n",
    "\n",
    "# You can write up to 20GB to the current directory (/kaggle/working/) that gets preserved as output when you create a version using \"Save & Run All\" \n",
    "# You can also write temporary files to /kaggle/temp/, but they won't be saved outside of the current session"
   ]
  },
  {
   "cell_type": "code",
   "execution_count": 2,
   "id": "c69344ac",
   "metadata": {
    "execution": {
     "iopub.execute_input": "2022-11-20T20:22:13.858053Z",
     "iopub.status.busy": "2022-11-20T20:22:13.856825Z",
     "iopub.status.idle": "2022-11-20T20:22:13.909705Z",
     "shell.execute_reply": "2022-11-20T20:22:13.908499Z"
    },
    "papermill": {
     "duration": 0.060322,
     "end_time": "2022-11-20T20:22:13.912305",
     "exception": false,
     "start_time": "2022-11-20T20:22:13.851983",
     "status": "completed"
    },
    "tags": []
   },
   "outputs": [
    {
     "data": {
      "text/html": [
       "<div>\n",
       "<style scoped>\n",
       "    .dataframe tbody tr th:only-of-type {\n",
       "        vertical-align: middle;\n",
       "    }\n",
       "\n",
       "    .dataframe tbody tr th {\n",
       "        vertical-align: top;\n",
       "    }\n",
       "\n",
       "    .dataframe thead th {\n",
       "        text-align: right;\n",
       "    }\n",
       "</style>\n",
       "<table border=\"1\" class=\"dataframe\">\n",
       "  <thead>\n",
       "    <tr style=\"text-align: right;\">\n",
       "      <th></th>\n",
       "      <th>PassengerId</th>\n",
       "      <th>Survived</th>\n",
       "      <th>Pclass</th>\n",
       "      <th>Name</th>\n",
       "      <th>Sex</th>\n",
       "      <th>Age</th>\n",
       "      <th>SibSp</th>\n",
       "      <th>Parch</th>\n",
       "      <th>Ticket</th>\n",
       "      <th>Fare</th>\n",
       "      <th>Cabin</th>\n",
       "      <th>Embarked</th>\n",
       "    </tr>\n",
       "  </thead>\n",
       "  <tbody>\n",
       "    <tr>\n",
       "      <th>0</th>\n",
       "      <td>1</td>\n",
       "      <td>0</td>\n",
       "      <td>3</td>\n",
       "      <td>Braund, Mr. Owen Harris</td>\n",
       "      <td>male</td>\n",
       "      <td>22.0</td>\n",
       "      <td>1</td>\n",
       "      <td>0</td>\n",
       "      <td>A/5 21171</td>\n",
       "      <td>7.2500</td>\n",
       "      <td>NaN</td>\n",
       "      <td>S</td>\n",
       "    </tr>\n",
       "    <tr>\n",
       "      <th>1</th>\n",
       "      <td>2</td>\n",
       "      <td>1</td>\n",
       "      <td>1</td>\n",
       "      <td>Cumings, Mrs. John Bradley (Florence Briggs Th...</td>\n",
       "      <td>female</td>\n",
       "      <td>38.0</td>\n",
       "      <td>1</td>\n",
       "      <td>0</td>\n",
       "      <td>PC 17599</td>\n",
       "      <td>71.2833</td>\n",
       "      <td>C85</td>\n",
       "      <td>C</td>\n",
       "    </tr>\n",
       "    <tr>\n",
       "      <th>2</th>\n",
       "      <td>3</td>\n",
       "      <td>1</td>\n",
       "      <td>3</td>\n",
       "      <td>Heikkinen, Miss. Laina</td>\n",
       "      <td>female</td>\n",
       "      <td>26.0</td>\n",
       "      <td>0</td>\n",
       "      <td>0</td>\n",
       "      <td>STON/O2. 3101282</td>\n",
       "      <td>7.9250</td>\n",
       "      <td>NaN</td>\n",
       "      <td>S</td>\n",
       "    </tr>\n",
       "    <tr>\n",
       "      <th>3</th>\n",
       "      <td>4</td>\n",
       "      <td>1</td>\n",
       "      <td>1</td>\n",
       "      <td>Futrelle, Mrs. Jacques Heath (Lily May Peel)</td>\n",
       "      <td>female</td>\n",
       "      <td>35.0</td>\n",
       "      <td>1</td>\n",
       "      <td>0</td>\n",
       "      <td>113803</td>\n",
       "      <td>53.1000</td>\n",
       "      <td>C123</td>\n",
       "      <td>S</td>\n",
       "    </tr>\n",
       "    <tr>\n",
       "      <th>4</th>\n",
       "      <td>5</td>\n",
       "      <td>0</td>\n",
       "      <td>3</td>\n",
       "      <td>Allen, Mr. William Henry</td>\n",
       "      <td>male</td>\n",
       "      <td>35.0</td>\n",
       "      <td>0</td>\n",
       "      <td>0</td>\n",
       "      <td>373450</td>\n",
       "      <td>8.0500</td>\n",
       "      <td>NaN</td>\n",
       "      <td>S</td>\n",
       "    </tr>\n",
       "    <tr>\n",
       "      <th>...</th>\n",
       "      <td>...</td>\n",
       "      <td>...</td>\n",
       "      <td>...</td>\n",
       "      <td>...</td>\n",
       "      <td>...</td>\n",
       "      <td>...</td>\n",
       "      <td>...</td>\n",
       "      <td>...</td>\n",
       "      <td>...</td>\n",
       "      <td>...</td>\n",
       "      <td>...</td>\n",
       "      <td>...</td>\n",
       "    </tr>\n",
       "    <tr>\n",
       "      <th>886</th>\n",
       "      <td>887</td>\n",
       "      <td>0</td>\n",
       "      <td>2</td>\n",
       "      <td>Montvila, Rev. Juozas</td>\n",
       "      <td>male</td>\n",
       "      <td>27.0</td>\n",
       "      <td>0</td>\n",
       "      <td>0</td>\n",
       "      <td>211536</td>\n",
       "      <td>13.0000</td>\n",
       "      <td>NaN</td>\n",
       "      <td>S</td>\n",
       "    </tr>\n",
       "    <tr>\n",
       "      <th>887</th>\n",
       "      <td>888</td>\n",
       "      <td>1</td>\n",
       "      <td>1</td>\n",
       "      <td>Graham, Miss. Margaret Edith</td>\n",
       "      <td>female</td>\n",
       "      <td>19.0</td>\n",
       "      <td>0</td>\n",
       "      <td>0</td>\n",
       "      <td>112053</td>\n",
       "      <td>30.0000</td>\n",
       "      <td>B42</td>\n",
       "      <td>S</td>\n",
       "    </tr>\n",
       "    <tr>\n",
       "      <th>888</th>\n",
       "      <td>889</td>\n",
       "      <td>0</td>\n",
       "      <td>3</td>\n",
       "      <td>Johnston, Miss. Catherine Helen \"Carrie\"</td>\n",
       "      <td>female</td>\n",
       "      <td>NaN</td>\n",
       "      <td>1</td>\n",
       "      <td>2</td>\n",
       "      <td>W./C. 6607</td>\n",
       "      <td>23.4500</td>\n",
       "      <td>NaN</td>\n",
       "      <td>S</td>\n",
       "    </tr>\n",
       "    <tr>\n",
       "      <th>889</th>\n",
       "      <td>890</td>\n",
       "      <td>1</td>\n",
       "      <td>1</td>\n",
       "      <td>Behr, Mr. Karl Howell</td>\n",
       "      <td>male</td>\n",
       "      <td>26.0</td>\n",
       "      <td>0</td>\n",
       "      <td>0</td>\n",
       "      <td>111369</td>\n",
       "      <td>30.0000</td>\n",
       "      <td>C148</td>\n",
       "      <td>C</td>\n",
       "    </tr>\n",
       "    <tr>\n",
       "      <th>890</th>\n",
       "      <td>891</td>\n",
       "      <td>0</td>\n",
       "      <td>3</td>\n",
       "      <td>Dooley, Mr. Patrick</td>\n",
       "      <td>male</td>\n",
       "      <td>32.0</td>\n",
       "      <td>0</td>\n",
       "      <td>0</td>\n",
       "      <td>370376</td>\n",
       "      <td>7.7500</td>\n",
       "      <td>NaN</td>\n",
       "      <td>Q</td>\n",
       "    </tr>\n",
       "  </tbody>\n",
       "</table>\n",
       "<p>891 rows × 12 columns</p>\n",
       "</div>"
      ],
      "text/plain": [
       "     PassengerId  Survived  Pclass  \\\n",
       "0              1         0       3   \n",
       "1              2         1       1   \n",
       "2              3         1       3   \n",
       "3              4         1       1   \n",
       "4              5         0       3   \n",
       "..           ...       ...     ...   \n",
       "886          887         0       2   \n",
       "887          888         1       1   \n",
       "888          889         0       3   \n",
       "889          890         1       1   \n",
       "890          891         0       3   \n",
       "\n",
       "                                                  Name     Sex   Age  SibSp  \\\n",
       "0                              Braund, Mr. Owen Harris    male  22.0      1   \n",
       "1    Cumings, Mrs. John Bradley (Florence Briggs Th...  female  38.0      1   \n",
       "2                               Heikkinen, Miss. Laina  female  26.0      0   \n",
       "3         Futrelle, Mrs. Jacques Heath (Lily May Peel)  female  35.0      1   \n",
       "4                             Allen, Mr. William Henry    male  35.0      0   \n",
       "..                                                 ...     ...   ...    ...   \n",
       "886                              Montvila, Rev. Juozas    male  27.0      0   \n",
       "887                       Graham, Miss. Margaret Edith  female  19.0      0   \n",
       "888           Johnston, Miss. Catherine Helen \"Carrie\"  female   NaN      1   \n",
       "889                              Behr, Mr. Karl Howell    male  26.0      0   \n",
       "890                                Dooley, Mr. Patrick    male  32.0      0   \n",
       "\n",
       "     Parch            Ticket     Fare Cabin Embarked  \n",
       "0        0         A/5 21171   7.2500   NaN        S  \n",
       "1        0          PC 17599  71.2833   C85        C  \n",
       "2        0  STON/O2. 3101282   7.9250   NaN        S  \n",
       "3        0            113803  53.1000  C123        S  \n",
       "4        0            373450   8.0500   NaN        S  \n",
       "..     ...               ...      ...   ...      ...  \n",
       "886      0            211536  13.0000   NaN        S  \n",
       "887      0            112053  30.0000   B42        S  \n",
       "888      2        W./C. 6607  23.4500   NaN        S  \n",
       "889      0            111369  30.0000  C148        C  \n",
       "890      0            370376   7.7500   NaN        Q  \n",
       "\n",
       "[891 rows x 12 columns]"
      ]
     },
     "execution_count": 2,
     "metadata": {},
     "output_type": "execute_result"
    }
   ],
   "source": [
    "data = pd.read_csv('/kaggle/input/titanic/train.csv')\n",
    "data"
   ]
  },
  {
   "cell_type": "code",
   "execution_count": 3,
   "id": "317d96c8",
   "metadata": {
    "execution": {
     "iopub.execute_input": "2022-11-20T20:22:13.921980Z",
     "iopub.status.busy": "2022-11-20T20:22:13.921679Z",
     "iopub.status.idle": "2022-11-20T20:22:13.946617Z",
     "shell.execute_reply": "2022-11-20T20:22:13.945438Z"
    },
    "papermill": {
     "duration": 0.032919,
     "end_time": "2022-11-20T20:22:13.949436",
     "exception": false,
     "start_time": "2022-11-20T20:22:13.916517",
     "status": "completed"
    },
    "tags": []
   },
   "outputs": [
    {
     "name": "stdout",
     "output_type": "stream",
     "text": [
      "<class 'pandas.core.frame.DataFrame'>\n",
      "RangeIndex: 891 entries, 0 to 890\n",
      "Data columns (total 12 columns):\n",
      " #   Column       Non-Null Count  Dtype  \n",
      "---  ------       --------------  -----  \n",
      " 0   PassengerId  891 non-null    int64  \n",
      " 1   Survived     891 non-null    int64  \n",
      " 2   Pclass       891 non-null    int64  \n",
      " 3   Name         891 non-null    object \n",
      " 4   Sex          891 non-null    object \n",
      " 5   Age          714 non-null    float64\n",
      " 6   SibSp        891 non-null    int64  \n",
      " 7   Parch        891 non-null    int64  \n",
      " 8   Ticket       891 non-null    object \n",
      " 9   Fare         891 non-null    float64\n",
      " 10  Cabin        204 non-null    object \n",
      " 11  Embarked     889 non-null    object \n",
      "dtypes: float64(2), int64(5), object(5)\n",
      "memory usage: 83.7+ KB\n"
     ]
    }
   ],
   "source": [
    "data.info()"
   ]
  },
  {
   "cell_type": "code",
   "execution_count": 4,
   "id": "b96e4f4a",
   "metadata": {
    "execution": {
     "iopub.execute_input": "2022-11-20T20:22:13.960396Z",
     "iopub.status.busy": "2022-11-20T20:22:13.960058Z",
     "iopub.status.idle": "2022-11-20T20:22:14.842933Z",
     "shell.execute_reply": "2022-11-20T20:22:14.841672Z"
    },
    "papermill": {
     "duration": 0.891123,
     "end_time": "2022-11-20T20:22:14.845662",
     "exception": false,
     "start_time": "2022-11-20T20:22:13.954539",
     "status": "completed"
    },
    "tags": []
   },
   "outputs": [
    {
     "data": {
      "image/png": "[encoded data removed]",
      "text/plain": [
       "<Figure size 864x576 with 9 Axes>"
      ]
     },
     "metadata": {
      "needs_background": "light"
     },
     "output_type": "display_data"
    }
   ],
   "source": [
    "data.hist(figsize=(12,8));"
   ]
  },
  {
   "cell_type": "code",
   "execution_count": 5,
   "id": "3cfbc119",
   "metadata": {
    "execution": {
     "iopub.execute_input": "2022-11-20T20:22:14.856427Z",
     "iopub.status.busy": "2022-11-20T20:22:14.856028Z",
     "iopub.status.idle": "2022-11-20T20:22:14.864433Z",
     "shell.execute_reply": "2022-11-20T20:22:14.863559Z"
    },
    "papermill": {
     "duration": 0.016676,
     "end_time": "2022-11-20T20:22:14.866821",
     "exception": false,
     "start_time": "2022-11-20T20:22:14.850145",
     "status": "completed"
    },
    "tags": []
   },
   "outputs": [
    {
     "data": {
      "text/plain": [
       "PassengerId      0\n",
       "Survived         0\n",
       "Pclass           0\n",
       "Name             0\n",
       "Sex              0\n",
       "Age            177\n",
       "SibSp            0\n",
       "Parch            0\n",
       "Ticket           0\n",
       "Fare             0\n",
       "Cabin          687\n",
       "Embarked         2\n",
       "dtype: int64"
      ]
     },
     "execution_count": 5,
     "metadata": {},
     "output_type": "execute_result"
    }
   ],
   "source": [
    "data.isna().sum()"
   ]
  },
  {
   "cell_type": "code",
   "execution_count": 6,
   "id": "3cfd8814",
   "metadata": {
    "execution": {
     "iopub.execute_input": "2022-11-20T20:22:14.877930Z",
     "iopub.status.busy": "2022-11-20T20:22:14.877058Z",
     "iopub.status.idle": "2022-11-20T20:22:14.885143Z",
     "shell.execute_reply": "2022-11-20T20:22:14.883877Z"
    },
    "papermill": {
     "duration": 0.016132,
     "end_time": "2022-11-20T20:22:14.887648",
     "exception": false,
     "start_time": "2022-11-20T20:22:14.871516",
     "status": "completed"
    },
    "tags": []
   },
   "outputs": [
    {
     "data": {
      "text/plain": [
       "Index(['passengerid', 'survived', 'pclass', 'name', 'sex', 'age', 'sibsp',\n",
       "       'parch', 'ticket', 'fare', 'cabin', 'embarked'],\n",
       "      dtype='object')"
      ]
     },
     "execution_count": 6,
     "metadata": {},
     "output_type": "execute_result"
    }
   ],
   "source": [
    "data.columns = data.columns.str.lower()\n",
    "data.columns"
   ]
  },
  {
   "cell_type": "code",
   "execution_count": 7,
   "id": "fd8d7dcf",
   "metadata": {
    "execution": {
     "iopub.execute_input": "2022-11-20T20:22:14.898605Z",
     "iopub.status.busy": "2022-11-20T20:22:14.898277Z",
     "iopub.status.idle": "2022-11-20T20:22:14.904958Z",
     "shell.execute_reply": "2022-11-20T20:22:14.903591Z"
    },
    "papermill": {
     "duration": 0.014917,
     "end_time": "2022-11-20T20:22:14.907400",
     "exception": false,
     "start_time": "2022-11-20T20:22:14.892483",
     "status": "completed"
    },
    "tags": []
   },
   "outputs": [],
   "source": [
    "data.loc[data['sex'] == 'male', 'sex'] = 1\n",
    "data.loc[data['sex'] == 'female', 'sex'] = 0"
   ]
  },
  {
   "cell_type": "code",
   "execution_count": 8,
   "id": "bdfd4899",
   "metadata": {
    "execution": {
     "iopub.execute_input": "2022-11-20T20:22:14.918464Z",
     "iopub.status.busy": "2022-11-20T20:22:14.918094Z",
     "iopub.status.idle": "2022-11-20T20:22:14.924689Z",
     "shell.execute_reply": "2022-11-20T20:22:14.923973Z"
    },
    "papermill": {
     "duration": 0.014411,
     "end_time": "2022-11-20T20:22:14.926533",
     "exception": false,
     "start_time": "2022-11-20T20:22:14.912122",
     "status": "completed"
    },
    "tags": []
   },
   "outputs": [],
   "source": [
    "data['age'] = data['age'].fillna(data['age'].median())"
   ]
  },
  {
   "cell_type": "code",
   "execution_count": 9,
   "id": "2d719943",
   "metadata": {
    "execution": {
     "iopub.execute_input": "2022-11-20T20:22:14.937430Z",
     "iopub.status.busy": "2022-11-20T20:22:14.937122Z",
     "iopub.status.idle": "2022-11-20T20:22:14.945112Z",
     "shell.execute_reply": "2022-11-20T20:22:14.943939Z"
    },
    "papermill": {
     "duration": 0.015543,
     "end_time": "2022-11-20T20:22:14.946812",
     "exception": false,
     "start_time": "2022-11-20T20:22:14.931269",
     "status": "completed"
    },
    "tags": []
   },
   "outputs": [
    {
     "data": {
      "text/plain": [
       "passengerid      0\n",
       "survived         0\n",
       "pclass           0\n",
       "name             0\n",
       "sex              0\n",
       "age              0\n",
       "sibsp            0\n",
       "parch            0\n",
       "ticket           0\n",
       "fare             0\n",
       "cabin          687\n",
       "embarked         2\n",
       "dtype: int64"
      ]
     },
     "execution_count": 9,
     "metadata": {},
     "output_type": "execute_result"
    }
   ],
   "source": [
    "data.isna().sum()"
   ]
  },
  {
   "cell_type": "code",
   "execution_count": 10,
   "id": "1a80ebde",
   "metadata": {
    "execution": {
     "iopub.execute_input": "2022-11-20T20:22:14.957330Z",
     "iopub.status.busy": "2022-11-20T20:22:14.957004Z",
     "iopub.status.idle": "2022-11-20T20:22:14.963819Z",
     "shell.execute_reply": "2022-11-20T20:22:14.962343Z"
    },
    "papermill": {
     "duration": 0.014878,
     "end_time": "2022-11-20T20:22:14.966238",
     "exception": false,
     "start_time": "2022-11-20T20:22:14.951360",
     "status": "completed"
    },
    "tags": []
   },
   "outputs": [],
   "source": [
    "train, val = train_test_split(data, random_state=1)"
   ]
  },
  {
   "cell_type": "code",
   "execution_count": 11,
   "id": "93efd1b2",
   "metadata": {
    "execution": {
     "iopub.execute_input": "2022-11-20T20:22:14.977849Z",
     "iopub.status.busy": "2022-11-20T20:22:14.977437Z",
     "iopub.status.idle": "2022-11-20T20:22:14.984569Z",
     "shell.execute_reply": "2022-11-20T20:22:14.983387Z"
    },
    "papermill": {
     "duration": 0.015697,
     "end_time": "2022-11-20T20:22:14.986729",
     "exception": false,
     "start_time": "2022-11-20T20:22:14.971032",
     "status": "completed"
    },
    "tags": []
   },
   "outputs": [
    {
     "name": "stdout",
     "output_type": "stream",
     "text": [
      "(668, 12)\n"
     ]
    },
    {
     "data": {
      "text/plain": [
       "(223, 12)"
      ]
     },
     "execution_count": 11,
     "metadata": {},
     "output_type": "execute_result"
    }
   ],
   "source": [
    "print(train.shape)\n",
    "val.shape"
   ]
  },
  {
   "cell_type": "code",
   "execution_count": 12,
   "id": "c12c75d5",
   "metadata": {
    "execution": {
     "iopub.execute_input": "2022-11-20T20:22:14.997724Z",
     "iopub.status.busy": "2022-11-20T20:22:14.997409Z",
     "iopub.status.idle": "2022-11-20T20:22:15.004410Z",
     "shell.execute_reply": "2022-11-20T20:22:15.002899Z"
    },
    "papermill": {
     "duration": 0.015132,
     "end_time": "2022-11-20T20:22:15.006752",
     "exception": false,
     "start_time": "2022-11-20T20:22:14.991620",
     "status": "completed"
    },
    "tags": []
   },
   "outputs": [],
   "source": [
    "train_X = train.drop(['passengerid', 'survived', 'name', 'ticket', 'cabin', 'embarked'], axis=1)\n",
    "train_y = train['survived']"
   ]
  },
  {
   "cell_type": "code",
   "execution_count": 13,
   "id": "ea4b6b0a",
   "metadata": {
    "execution": {
     "iopub.execute_input": "2022-11-20T20:22:15.018129Z",
     "iopub.status.busy": "2022-11-20T20:22:15.017803Z",
     "iopub.status.idle": "2022-11-20T20:22:15.025481Z",
     "shell.execute_reply": "2022-11-20T20:22:15.023842Z"
    },
    "papermill": {
     "duration": 0.016523,
     "end_time": "2022-11-20T20:22:15.028255",
     "exception": false,
     "start_time": "2022-11-20T20:22:15.011732",
     "status": "completed"
    },
    "tags": []
   },
   "outputs": [],
   "source": [
    "val_X = val.drop(['passengerid', 'survived', 'name', 'ticket', 'cabin', 'embarked'], axis=1)\n",
    "val_y = val['survived']"
   ]
  },
  {
   "cell_type": "code",
   "execution_count": 14,
   "id": "b7e201d1",
   "metadata": {
    "execution": {
     "iopub.execute_input": "2022-11-20T20:22:15.039674Z",
     "iopub.status.busy": "2022-11-20T20:22:15.039025Z",
     "iopub.status.idle": "2022-11-20T20:22:15.060447Z",
     "shell.execute_reply": "2022-11-20T20:22:15.055977Z"
    },
    "papermill": {
     "duration": 0.030238,
     "end_time": "2022-11-20T20:22:15.063382",
     "exception": false,
     "start_time": "2022-11-20T20:22:15.033144",
     "status": "completed"
    },
    "tags": []
   },
   "outputs": [
    {
     "data": {
      "text/plain": [
       "0.7488789237668162"
      ]
     },
     "execution_count": 14,
     "metadata": {},
     "output_type": "execute_result"
    }
   ],
   "source": [
    "model = DecisionTreeClassifier(random_state=1)\n",
    "model.fit(train_X, train_y)\n",
    "predictions = model.predict(val_X)\n",
    "accuracy = accuracy_score(val_y, predictions)\n",
    "accuracy"
   ]
  },
  {
   "cell_type": "code",
   "execution_count": null,
   "id": "8885ffaa",
   "metadata": {
    "papermill": {
     "duration": 0.005005,
     "end_time": "2022-11-20T20:22:15.074087",
     "exception": false,
     "start_time": "2022-11-20T20:22:15.069082",
     "status": "completed"
    },
    "tags": []
   },
   "outputs": [],
   "source": []
  }
 ],
 "metadata": {
  "kernelspec": {
   "display_name": "Python 3",
   "language": "python",
   "name": "python3"
  },
  "language_info": {
   "codemirror_mode": {
    "name": "ipython",
    "version": 3
   },
   "file_extension": ".py",
   "mimetype": "text/x-python",
   "name": "python",
   "nbconvert_exporter": "python",
   "pygments_lexer": "ipython3",
   "version": "3.7.12"
  },
  "papermill": {
   "default_parameters": {},
   "duration": 11.005212,
   "end_time": "2022-11-20T20:22:15.805441",
   "environment_variables": {},
   "exception": null,
   "input_path": "__notebook__.ipynb",
   "output_path": "__notebook__.ipynb",
   "parameters": {},
   "start_time": "2022-11-20T20:22:04.800229",
   "version": "2.3.4"
  }
 },
 "nbformat": 4,
 "nbformat_minor": 5
}
